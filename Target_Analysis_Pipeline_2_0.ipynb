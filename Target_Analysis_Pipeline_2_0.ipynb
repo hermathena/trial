{
  "nbformat": 4,
  "nbformat_minor": 0,
  "metadata": {
    "colab": {
      "provenance": []
    },
    "kernelspec": {
      "name": "python3",
      "display_name": "Python 3"
    },
    "language_info": {
      "name": "python"
    }
  },
  "cells": [
    {
      "cell_type": "code",
      "execution_count": null,
      "metadata": {
        "id": "Ce3Ao9JhauNL"
      },
      "outputs": [],
      "source": [
        "# Data manipulation\n",
        "#===========================================================================\n",
        "import pandas as pd\n",
        "pd.set_option(\"display.max_columns\", None)\n",
        "import numpy as np\n",
        "\n",
        "# Data visualization\n",
        "#===========================================================================\n",
        "import matplotlib.pyplot as plt\n",
        "from matplotlib.colors import LinearSegmentedColormap\n",
        "import seaborn as sns\n",
        "from sklearn.preprocessing import MinMaxScaler\n",
        "\n",
        "#\n",
        "#===========================================================================\n",
        "import random\n",
        "from google.colab import files"
      ]
    },
    {
      "cell_type": "code",
      "source": [
        "uploaded = files.upload()"
      ],
      "metadata": {
        "id": "9LSLc-Ipa69c"
      },
      "execution_count": null,
      "outputs": []
    },
    {
      "cell_type": "code",
      "source": [
        "# Get the name of the first uploaded file\n",
        "filename = next(iter(uploaded))"
      ],
      "metadata": {
        "id": "G4HVpdRMeBEO"
      },
      "execution_count": null,
      "outputs": []
    },
    {
      "cell_type": "code",
      "source": [
        "data = pd.read_csv(filename)"
      ],
      "metadata": {
        "id": "voNtrtX2eDtQ"
      },
      "execution_count": null,
      "outputs": []
    },
    {
      "cell_type": "code",
      "source": [
        "data.head()"
      ],
      "metadata": {
        "id": "cTWsLe4ueEb1"
      },
      "execution_count": null,
      "outputs": []
    },
    {
      "cell_type": "code",
      "source": [
        "data['Full Name'] = data['LastName'] + ', ' + data['PreferredName']"
      ],
      "metadata": {
        "id": "SxjfKVzmschB"
      },
      "execution_count": null,
      "outputs": []
    },
    {
      "cell_type": "code",
      "source": [
        "# Set a seed for reproducibility\n",
        "random.seed(42)  # You can choose any integer as a seed\n",
        "\n",
        "# List of random words\n",
        "animals = ['Lion', 'Tiger', 'Bear', 'Eagle', 'Shark', 'Dragon', 'Jaguar', 'Falcon', 'Dolphin']\n",
        "colors = ['Crimson', 'Cyan', 'Aqua', 'Aureolin', 'Cerulean', 'Chartreuse', 'Vermilion']\n",
        "\n",
        "# Create coded names\n",
        "def generate_coded_name(student_name):\n",
        "    animal = random.choice(animals)\n",
        "    color = random.choice(colors)\n",
        "    unique_number = random.randint(100, 999)  # Unique number\n",
        "    return f\"{color}{animal}{unique_number}\"\n",
        "\n",
        "\n",
        "# Apply the function to create a new column for coded names\n",
        "data['Coded Name'] = data['Full Name'].apply(generate_coded_name)\n",
        "\n"
      ],
      "metadata": {
        "id": "6crqMuSMbHwT"
      },
      "execution_count": null,
      "outputs": []
    },
    {
      "cell_type": "code",
      "source": [
        "# Identify all columns containing '%'\n",
        "percent_columns = [col for col in data.columns if '%' in col]\n",
        "\n",
        "# Process each percentage column\n",
        "for col in percent_columns:\n",
        "    # Create TDifference\n",
        "    target_diff_col = col.replace('%', 'TDifference')\n",
        "    data[target_diff_col] = data[col] - data['Prediction']\n",
        "\n",
        "    # Create RTDifference\n",
        "    relative_diff_col = col.replace('%', 'RTDifference')\n",
        "    data[relative_diff_col] = data[target_diff_col] - data[target_diff_col].mean()"
      ],
      "metadata": {
        "id": "uZLFyVrEbKg0"
      },
      "execution_count": null,
      "outputs": []
    },
    {
      "cell_type": "code",
      "source": [
        "data['TargetDelta'] = data.iloc[:, -1] - data.iloc[:, -3]"
      ],
      "metadata": {
        "id": "ETr8atcR28BP"
      },
      "execution_count": null,
      "outputs": []
    },
    {
      "cell_type": "code",
      "source": [
        "data['latest_rt_difference'] = data.iloc[:, -2]  # Second to last column"
      ],
      "metadata": {
        "id": "zG60KnDvycOC"
      },
      "execution_count": null,
      "outputs": []
    },
    {
      "cell_type": "code",
      "source": [
        "# Get the name of the second-to-last column\n",
        "third_to_last_column_name = data.columns[-3]  # Access third to last column name\n",
        "first_four_letters = third_to_last_column_name[:4]  # Get first four letters\n",
        "\n",
        "# Get the name of the second-to-last column\n",
        "fifth_to_last_column_name = data.columns[-5]  # Access fifth to last column\n",
        "first_four_letters2 = fifth_to_last_column_name[:4]  # Get first four letters"
      ],
      "metadata": {
        "id": "RgcsGBRU0jRu"
      },
      "execution_count": null,
      "outputs": []
    },
    {
      "cell_type": "code",
      "source": [
        "# Calculate distance from origin\n",
        "data['Distance'] = np.sqrt(data['latest_rt_difference']**2 + data['TargetDelta']**2)\n",
        "\n",
        "# Normalize the distances\n",
        "scaler = MinMaxScaler()\n",
        "data['Normalized Distance'] = scaler.fit_transform(data[['Distance']])\n",
        "\n",
        "# Classify points by quadrant\n",
        "def get_quadrant(row):\n",
        "    if row['latest_rt_difference'] >= 0 and row['TargetDelta'] >= 0:\n",
        "        return 'Quadrant 1'  # Top right\n",
        "    elif row['latest_rt_difference'] < 0 and row['TargetDelta'] >= 0:\n",
        "        return 'Quadrant 2'  # Top left\n",
        "    elif row['latest_rt_difference'] < 0 and row['TargetDelta'] < 0:\n",
        "        return 'Quadrant 3'  # Bottom left\n",
        "    else:\n",
        "        return 'Quadrant 4'  # Bottom right\n",
        "\n",
        "data['Quadrant'] = data.apply(get_quadrant, axis=1)\n",
        "\n",
        "# Define custom colormaps for each quadrant\n",
        "q1_colors = ['#8ac7ff', '#000f96']  # Light blue to dark blue\n",
        "q2_colors = ['#92fc92', '#008c00']  # Light green to dark green\n",
        "q3_colors = ['#fab6b6', '#e60202']  # Light red to dark red\n",
        "q4_colors = ['#fced86', '#fffb03']  # Light orange to dark orange\n",
        "\n",
        "q1_cmap = LinearSegmentedColormap.from_list(\"Q1\", q1_colors)\n",
        "q2_cmap = LinearSegmentedColormap.from_list(\"Q2\", q2_colors)\n",
        "q3_cmap = LinearSegmentedColormap.from_list(\"Q3\", q3_colors)\n",
        "q4_cmap = LinearSegmentedColormap.from_list(\"Q4\", q4_colors)\n",
        "\n",
        "# Define colors for each quadrant\n",
        "def get_color(quadrant, normalized_distance):\n",
        "    if quadrant == 'Quadrant 1':\n",
        "        return q1_cmap(normalized_distance)\n",
        "    elif quadrant == 'Quadrant 2':\n",
        "        return q2_cmap(normalized_distance)\n",
        "    elif quadrant == 'Quadrant 3':\n",
        "        return q3_cmap(normalized_distance)\n",
        "    else:\n",
        "        return q4_cmap(normalized_distance)\n",
        "\n",
        "# Create an array of colors based on quadrant and normalized distance\n",
        "colors = [get_color(row['Quadrant'], row['Normalized Distance']) for index, row in data.iterrows()]\n",
        "\n",
        "# Create the scatter plot\n",
        "plt.figure(figsize=(12, 8))\n",
        "scatter = plt.scatter(data['latest_rt_difference'], data['TargetDelta'],\n",
        "                      c=colors, s=100, alpha=0.7)\n",
        "\n",
        "# Create the title dynamically\n",
        "title = f'Relative Target Gap vs. Target Delta\\nClass Performance Comparing {first_four_letters.upper()} and {first_four_letters2.upper()} Results'\n",
        "\n",
        "# Add title and labels\n",
        "plt.title(title, fontsize=16)\n",
        "plt.xlabel('Relative Target Gap', fontsize=12)\n",
        "plt.ylabel('Target Delta', fontsize=12)\n",
        "plt.axhline(0, color='gray', linestyle='--', alpha=0.5)  # Horizontal line at y=0\n",
        "plt.axvline(0, color='gray', linestyle='--', alpha=0.5)  # Vertical line at x=0\n",
        "\n",
        "# Add labels to each point\n",
        "for i, row in data.iterrows():\n",
        "    plt.annotate(row['Full Name'], (row['latest_rt_difference'], row['TargetDelta']),\n",
        "                 xytext=(5, 5), textcoords='offset points', fontsize=8,\n",
        "                 bbox=dict(boxstyle=\"round,pad=0.3\", fc=\"white\", ec=\"gray\", alpha=0.7))\n",
        "\n",
        "# Add grid lines\n",
        "plt.grid(color='gray', linestyle='--', alpha=0.3)\n",
        "\n",
        "# Create a custom legend\n",
        "legend_elements = [\n",
        "    plt.Line2D([0], [0], marker='o', color='w', label='Excelling',\n",
        "               markerfacecolor=q1_colors[1], markersize=10),\n",
        "    plt.Line2D([0], [0], marker='o', color='w', label='Improving',\n",
        "               markerfacecolor=q2_colors[1], markersize=10),\n",
        "    plt.Line2D([0], [0], marker='o', color='w', label='Concerning',\n",
        "               markerfacecolor=q3_colors[1], markersize=10),\n",
        "    plt.Line2D([0], [0], marker='o', color='w', label='Declining',\n",
        "               markerfacecolor=q4_colors[1], markersize=10)\n",
        "]\n",
        "\n",
        "plt.legend(handles=legend_elements, loc='lower left', bbox_to_anchor=(1, 0.5))\n",
        "\n",
        "plt.tight_layout()\n",
        "plt.show()"
      ],
      "metadata": {
        "id": "pGJGRWnjymfQ"
      },
      "execution_count": null,
      "outputs": []
    },
    {
      "cell_type": "code",
      "source": [
        "# Calculate distance from origin\n",
        "data['Distance'] = np.sqrt(data['latest_rt_difference']**2 + data['TargetDelta']**2)\n",
        "\n",
        "# Normalize the distances\n",
        "scaler = MinMaxScaler()\n",
        "data['Normalized Distance'] = scaler.fit_transform(data[['Distance']])\n",
        "\n",
        "# Classify points by quadrant\n",
        "def get_quadrant(row):\n",
        "    if row['latest_rt_difference'] >= 0 and row['TargetDelta'] >= 0:\n",
        "        return 'Quadrant 1'  # Top right\n",
        "    elif row['latest_rt_difference'] < 0 and row['TargetDelta'] >= 0:\n",
        "        return 'Quadrant 2'  # Top left\n",
        "    elif row['latest_rt_difference'] < 0 and row['TargetDelta'] < 0:\n",
        "        return 'Quadrant 3'  # Bottom left\n",
        "    else:\n",
        "        return 'Quadrant 4'  # Bottom right\n",
        "\n",
        "data['Quadrant'] = data.apply(get_quadrant, axis=1)\n",
        "\n",
        "# Define custom colormaps for each quadrant\n",
        "q1_colors = ['#8ac7ff', '#000f96']  # Light blue to dark blue\n",
        "q2_colors = ['#92fc92', '#008c00']  # Light green to dark green\n",
        "q3_colors = ['#fab6b6', '#e60202']  # Light red to dark red\n",
        "q4_colors = ['#fced86', '#fffb03']  # Light orange to dark orange\n",
        "\n",
        "q1_cmap = LinearSegmentedColormap.from_list(\"Q1\", q1_colors)\n",
        "q2_cmap = LinearSegmentedColormap.from_list(\"Q2\", q2_colors)\n",
        "q3_cmap = LinearSegmentedColormap.from_list(\"Q3\", q3_colors)\n",
        "q4_cmap = LinearSegmentedColormap.from_list(\"Q4\", q4_colors)\n",
        "\n",
        "# Define colors for each quadrant\n",
        "def get_color(quadrant, normalized_distance):\n",
        "    if quadrant == 'Quadrant 1':\n",
        "        return q1_cmap(normalized_distance)\n",
        "    elif quadrant == 'Quadrant 2':\n",
        "        return q2_cmap(normalized_distance)\n",
        "    elif quadrant == 'Quadrant 3':\n",
        "        return q3_cmap(normalized_distance)\n",
        "    else:\n",
        "        return q4_cmap(normalized_distance)\n",
        "\n",
        "# Create an array of colors based on quadrant and normalized distance\n",
        "colors = [get_color(row['Quadrant'], row['Normalized Distance']) for index, row in data.iterrows()]\n",
        "\n",
        "# Create the scatter plot\n",
        "plt.figure(figsize=(12, 8))\n",
        "scatter = plt.scatter(data['latest_rt_difference'], data['TargetDelta'],\n",
        "                      c=colors, s=100, alpha=0.7)\n",
        "\n",
        "# Create the title dynamically\n",
        "title = f'Relative Target Gap vs. Target Delta\\nClass Performance Comparing {first_four_letters.upper()} and {first_four_letters2.upper()} Results'\n",
        "\n",
        "# Add title and labels\n",
        "plt.title(title, fontsize=16)\n",
        "plt.xlabel('Relative Target Gap', fontsize=12)\n",
        "plt.ylabel('Target Delta', fontsize=12)\n",
        "plt.axhline(0, color='gray', linestyle='--', alpha=0.5)  # Horizontal line at y=0\n",
        "plt.axvline(0, color='gray', linestyle='--', alpha=0.5)  # Vertical line at x=0\n",
        "\n",
        "# Add labels to each point\n",
        "for i, row in data.iterrows():\n",
        "    plt.annotate(row['Coded Name'], (row['latest_rt_difference'], row['TargetDelta']),\n",
        "                 xytext=(5, 5), textcoords='offset points', fontsize=8,\n",
        "                 bbox=dict(boxstyle=\"round,pad=0.3\", fc=\"white\", ec=\"gray\", alpha=0.7))\n",
        "\n",
        "# Add grid lines\n",
        "plt.grid(color='gray', linestyle='--', alpha=0.3)\n",
        "\n",
        "# Create a custom legend\n",
        "legend_elements = [\n",
        "    plt.Line2D([0], [0], marker='o', color='w', label='Excelling',\n",
        "               markerfacecolor=q1_colors[1], markersize=10),\n",
        "    plt.Line2D([0], [0], marker='o', color='w', label='Improving',\n",
        "               markerfacecolor=q2_colors[1], markersize=10),\n",
        "    plt.Line2D([0], [0], marker='o', color='w', label='Concerning',\n",
        "               markerfacecolor=q3_colors[1], markersize=10),\n",
        "    plt.Line2D([0], [0], marker='o', color='w', label='Declining',\n",
        "               markerfacecolor=q4_colors[1], markersize=10)\n",
        "]\n",
        "\n",
        "plt.legend(handles=legend_elements, loc='lower left', bbox_to_anchor=(1, 0.5))\n",
        "\n",
        "plt.tight_layout()\n",
        "plt.show()"
      ],
      "metadata": {
        "id": "b4aFlfas1IMA"
      },
      "execution_count": null,
      "outputs": []
    },
    {
      "cell_type": "code",
      "source": [
        "data.head()"
      ],
      "metadata": {
        "id": "CySdGLYjyJ0u"
      },
      "execution_count": null,
      "outputs": []
    },
    {
      "cell_type": "code",
      "source": [
        "data.to_csv('8 CON ALG2 Analysis Coded Names', index=False)"
      ],
      "metadata": {
        "id": "6TC2G16F3NOh"
      },
      "execution_count": null,
      "outputs": []
    },
    {
      "cell_type": "code",
      "source": [
        "import matplotlib.pyplot as plt\n",
        "import numpy as np\n",
        "import pandas as pd\n",
        "from sklearn.preprocessing import MinMaxScaler\n",
        "from matplotlib.colors import LinearSegmentedColormap\n",
        "\n",
        "# Sample DataFrame (replace this with your actual DataFrame\n",
        "\n",
        "# Create the scatter plot\n",
        "plt.figure(figsize=(12, 8))\n",
        "scatter = plt.scatter(data['latest_rt_difference'], data['TargetDelta'],\n",
        "                      c=colors, s=100, alpha=0.7)\n",
        "\n",
        "# Create the title dynamically\n",
        "title = f'Relative Target Gap vs. Target Delta\\nClass Performance Comparing {first_four_letters.upper()} and {first_four_letters2.upper()} Results'\n",
        "\n",
        "# Add title and labels\n",
        "plt.title(title, fontsize=16)\n",
        "plt.xlabel('Relative Target Gap', fontsize=12)\n",
        "plt.ylabel('Target Delta', fontsize=12)\n",
        "plt.axhline(0, color='gray', linestyle='--', alpha=0.5)  # Horizontal line at y=0\n",
        "plt.axvline(0, color='gray', linestyle='--', alpha=0.5)  # Vertical line at x=0\n",
        "\n",
        "# Add labels to each point\n",
        "for i, row in data.iterrows():\n",
        "    plt.annotate(row['Coded Name'], (row['latest_rt_difference'], row['TargetDelta']),\n",
        "                 xytext=(5, 5), textcoords='offset points', fontsize=8,\n",
        "                 bbox=dict(boxstyle=\"round,pad=0.3\", fc=\"white\", ec=\"gray\", alpha=0.7))\n",
        "\n",
        "# Add grid lines\n",
        "plt.grid(color='gray', linestyle='--', alpha=0.3)\n",
        "\n",
        "# Create a custom legend\n",
        "legend_elements = [\n",
        "    plt.Line2D([0], [0], marker='o', color='w', label='Excelling',\n",
        "               markerfacecolor=q1_colors[1], markersize=10),\n",
        "    plt.Line2D([0], [0], marker='o', color='w', label='Improving',\n",
        "               markerfacecolor=q2_colors[1], markersize=10),\n",
        "    plt.Line2D([0], [0], marker='o', color='w', label='Concerning',\n",
        "               markerfacecolor=q3_colors[1], markersize=10),\n",
        "    plt.Line2D([0], [0], marker='o', color='w', label='Declining',\n",
        "               markerfacecolor=q4_colors[1], markersize=10)\n",
        "]\n",
        "\n",
        "plt.legend(handles=legend_elements, loc='lower left', bbox_to_anchor=(1, 0.5))\n",
        "\n",
        "top_students = data.nlargest(5, 'latest_rt_difference')[['Full Name', 'latest_rt_difference']].round(1)\n",
        "\n",
        "# Define custom column labels\n",
        "custom_column_labels = ['Student', f'{first_four_letters.upper()} Relative Target Beat By (%)']\n",
        "\n",
        "# Create a table\n",
        "table = plt.table(cellText=top_students.values,\n",
        "                  colLabels=custom_column_labels,  # Use custom labels here\n",
        "                  cellLoc='center',\n",
        "                  loc='bottom',\n",
        "                  bbox=[0.2, -0.3, 0.6, 0.2])  # Adjust bbox as needed\n",
        "\n",
        "# Adjust the layout to make room for the table\n",
        "plt.subplots_adjust(bottom=0.3)\n",
        "\n",
        "plt.tight_layout()\n",
        "plt.show()"
      ],
      "metadata": {
        "id": "uzCehaarDucE"
      },
      "execution_count": null,
      "outputs": []
    },
    {
      "cell_type": "code",
      "source": [],
      "metadata": {
        "id": "IgF7PN5XwtJM"
      },
      "execution_count": null,
      "outputs": []
    }
  ]
}